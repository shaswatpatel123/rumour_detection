{
 "cells": [
  {
   "cell_type": "code",
   "execution_count": 12,
   "id": "83ca2904",
   "metadata": {},
   "outputs": [],
   "source": [
    "from matplotlib import pyplot\n",
    "from pathlib import Path\n",
    "import pickle\n",
    "import json"
   ]
  },
  {
   "cell_type": "code",
   "execution_count": 3,
   "id": "73c1b6f9",
   "metadata": {},
   "outputs": [],
   "source": [
    "root_path = Path(\"./\")"
   ]
  },
  {
   "cell_type": "code",
   "execution_count": 4,
   "id": "8faacfc6",
   "metadata": {},
   "outputs": [],
   "source": [
    "saveDataPath = root_path / \"/model/pheme9/3label/unaugmented/GCN\""
   ]
  },
  {
   "cell_type": "code",
   "execution_count": 5,
   "id": "f188850c",
   "metadata": {},
   "outputs": [
    {
     "data": {
      "text/plain": [
       "PosixPath('/model/pheme9/3label/unaugmented/GCN')"
      ]
     },
     "execution_count": 5,
     "metadata": {},
     "output_type": "execute_result"
    }
   ],
   "source": [
    "saveDataPath"
   ]
  },
  {
   "cell_type": "code",
   "execution_count": 3,
   "id": "26e3bcd1",
   "metadata": {},
   "outputs": [],
   "source": [
    "def getTimePlot( data, title, metric=\"f1 score\", limit=None ):\n",
    "    x = list( data.keys() )\n",
    "    \n",
    "    if limit is not None:\n",
    "        x = [ i for i in x if i <= limit]\n",
    "    \n",
    "    if limit is not None:\n",
    "        y = [ y[metric] for x, y in data.items() if x <= limit ]\n",
    "    else:\n",
    "        y = [ y[metric] for x, y in data.items() ]\n",
    "    \n",
    "    pyplot.plot(x, y)\n",
    "    pyplot.title(title)\n",
    "    pyplot.xlabel('Time')\n",
    "    pyplot.ylabel(metric)"
   ]
  },
  {
   "cell_type": "code",
   "execution_count": 4,
   "id": "8cabf9c1",
   "metadata": {},
   "outputs": [],
   "source": [
    "def getCommentPlot( data, title, metric=\"f1 score\", limit=None ):\n",
    "    x = list( data.keys() )\n",
    "    \n",
    "    if limit is not None:\n",
    "        x = [ i for i in x if i <= limit]\n",
    "    \n",
    "    if limit is not None:\n",
    "        y = [ y[metric] for x, y in data.items() if x <= limit ]\n",
    "    else:\n",
    "        y = [ y[metric] for x, y in data.items() ]\n",
    "    \n",
    "    pyplot.plot(x, y)\n",
    "    pyplot.title(title)\n",
    "    pyplot.xlabel('Comments')\n",
    "    pyplot.ylabel(metric)"
   ]
  },
  {
   "cell_type": "code",
   "execution_count": 5,
   "id": "5dc8e91a",
   "metadata": {},
   "outputs": [],
   "source": [
    "def getEarlyRDPlots( timeDataPath, commentDataPath ):\n",
    "    with open( timeDataPath, \"rb\" ) as handle:\n",
    "        timeData = pickle.load( handle )\n",
    "        \n",
    "    with open( commentDataPath, \"rb\" ) as handle:\n",
    "        commentData = pickle.load( handle )\n",
    "        \n",
    "    getTimePlot( timeData, \"Early rumour based on time\" )\n",
    "    \n",
    "    pyplot.show()\n",
    "    \n",
    "    pyplot.clf()\n",
    "    \n",
    "    getCommentPlot( commentData, \"Early rumour based on comment\" )"
   ]
  },
  {
   "cell_type": "code",
   "execution_count": 6,
   "id": "d7981ed4",
   "metadata": {},
   "outputs": [
    {
     "data": {
      "text/plain": [
       "PosixPath('model/pheme9/3label/unaugmented/GCN/average_time_result.pickle')"
      ]
     },
     "execution_count": 6,
     "metadata": {},
     "output_type": "execute_result"
    }
   ],
   "source": [
    "timeDataPath = saveDataPath / \"average_time_result.pickle\"\n",
    "timeDataPath"
   ]
  },
  {
   "cell_type": "code",
   "execution_count": 7,
   "id": "1a90ed80",
   "metadata": {},
   "outputs": [
    {
     "data": {
      "text/plain": [
       "PosixPath('model/pheme9/3label/unaugmented/GCN/average_comment_result.pickle')"
      ]
     },
     "execution_count": 7,
     "metadata": {},
     "output_type": "execute_result"
    }
   ],
   "source": [
    "commentDataPath = saveDataPath / \"average_comment_result.pickle\"\n",
    "commentDataPath"
   ]
  },
  {
   "cell_type": "code",
   "execution_count": 8,
   "id": "662ce74b",
   "metadata": {},
   "outputs": [
    {
     "data": {
      "image/png": "[encoded data removed]",
      "text/plain": [
       "<Figure size 432x288 with 1 Axes>"
      ]
     },
     "metadata": {
      "needs_background": "light"
     },
     "output_type": "display_data"
    },
    {
     "data": {
      "image/png": "[encoded data removed]",
      "text/plain": [
       "<Figure size 432x288 with 1 Axes>"
      ]
     },
     "metadata": {
      "needs_background": "light"
     },
     "output_type": "display_data"
    }
   ],
   "source": [
    "getEarlyRDPlots(timeDataPath, commentDataPath)"
   ]
  },
  {
   "cell_type": "markdown",
   "id": "cda59091",
   "metadata": {},
   "source": [
    "## All results"
   ]
  },
  {
   "cell_type": "code",
   "execution_count": 16,
   "id": "c5329280",
   "metadata": {},
   "outputs": [],
   "source": [
    "# root_path = Path( \".\" )\n",
    "root_path = Path.cwd()"
   ]
  },
  {
   "cell_type": "code",
   "execution_count": 17,
   "id": "15cdfcfd",
   "metadata": {},
   "outputs": [
    {
     "data": {
      "text/plain": [
       "PosixPath('/home/ubuntu/rumour_detection/gnn_rd')"
      ]
     },
     "execution_count": 17,
     "metadata": {},
     "output_type": "execute_result"
    }
   ],
   "source": [
    "root_path"
   ]
  },
  {
   "cell_type": "code",
   "execution_count": 13,
   "id": "227c570b",
   "metadata": {},
   "outputs": [],
   "source": [
    "import tabulate"
   ]
  },
  {
   "cell_type": "code",
   "execution_count": 14,
   "id": "63c35955",
   "metadata": {},
   "outputs": [],
   "source": [
    "def printTable(metric_score):\n",
    "    l = [[i, j] for i, j in metric_score.items()]\n",
    "\n",
    "    table = tabulate.tabulate(\n",
    "        l, headers=['Metric', 'Value'], tablefmt='orgtbl')\n",
    "    print(table)"
   ]
  },
  {
   "cell_type": "code",
   "execution_count": 6,
   "id": "42ccf4bb",
   "metadata": {},
   "outputs": [
    {
     "data": {
      "text/plain": [
       "PosixPath('/home/ubuntu/rumour_detection/gnn_rd/model')"
      ]
     },
     "execution_count": 6,
     "metadata": {},
     "output_type": "execute_result"
    }
   ],
   "source": [
    "# saveDataPath = root_path / \"model/pheme9/3label/\"\n",
    "saveDataPath = root_path / \"model\"\n",
    "saveDataPath"
   ]
  },
  {
   "cell_type": "markdown",
   "id": "37985558",
   "metadata": {},
   "source": [
    "SAVE IN EXPERIEMENT RUN\n",
    "COLUMNS -> Model, Data Aug, Data Labels, Dataset, Metrics => [GCN/GAT, un/aug/im, 3label/2label, Pheme9/Pheme5, Precision..] "
   ]
  },
  {
   "cell_type": "code",
   "execution_count": 19,
   "id": "f5a9a52d",
   "metadata": {},
   "outputs": [],
   "source": [
    "import pandas as pd\n",
    "def getResultInDF( saveDataPath ):\n",
    "\n",
    "    dataFrame = {\n",
    "        \"Model\" : [],\n",
    "        \"Data Aug\" : [],\n",
    "        \"Label\" : [],\n",
    "        \"Dataset\" : [],\n",
    "        \"Accuracy\" : [],\n",
    "        \"Precision\" : [],\n",
    "        \"Recall\" : [],\n",
    "        \"F1-score\" : []\n",
    "    }\n",
    "    for dataset_path in saveDataPath.iterdir():\n",
    "        # pheme9/pheme5\n",
    "\n",
    "        if dataset_path.exists() == False:\n",
    "            continue\n",
    "\n",
    "        dataset = dataset_path.name\n",
    "\n",
    "        for label_path in dataset_path.iterdir():\n",
    "            # 3label/2label\n",
    "            if label_path.exists() == False:\n",
    "                continue\n",
    "\n",
    "            label = label_path.name \n",
    "\n",
    "            for x in label_path.iterdir():\n",
    "\n",
    "                if x.exists() == False:\n",
    "                    continue\n",
    "\n",
    "                # unaugmented, augmented, improved\n",
    "                data_aug_path = label_path / x\n",
    "\n",
    "                data_aug = x.name\n",
    "\n",
    "\n",
    "\n",
    "                for model_name_path in data_aug_path.iterdir():\n",
    "\n",
    "                    if model_name_path.exists() == False:\n",
    "                        continue\n",
    "\n",
    "                    model_name = model_name_path.name\n",
    "\n",
    "                    if (model_name_path/ \"average_results.json\").exists() == False:\n",
    "                        continue\n",
    "\n",
    "                    with open( model_name_path / \"average_results.json\", encoding=\"utf8\") as ofile:\n",
    "                        results = json.load(ofile)\n",
    "\n",
    "\n",
    "                    dataFrame[\"Model\"].append( model_name )\n",
    "                    dataFrame[\"Data Aug\"].append( data_aug )\n",
    "                    dataFrame[\"Label\"].append( label )\n",
    "                    dataFrame[\"Dataset\"].append( dataset )\n",
    "                    dataFrame[\"Accuracy\"].append( results['Accuracy'] )\n",
    "                    dataFrame[\"Precision\"].append( results['Precision'] )\n",
    "                    dataFrame[\"Recall\"].append( results['Recall'] )\n",
    "                    dataFrame[\"F1-score\"].append( results['F1 score'] )\n",
    "\n",
    "\n",
    "    df = pd.DataFrame(dataFrame)\n",
    "    return df"
   ]
  },
  {
   "cell_type": "code",
   "execution_count": 30,
   "id": "4b85d7ae",
   "metadata": {},
   "outputs": [],
   "source": [
    "from matplotlib import pyplot\n",
    "def getGraphs( df ):\n",
    "    for i in df.groupby(['Model', 'Label', 'Dataset']):\n",
    "\n",
    "        if len(i[1]) < 3:\n",
    "            continue\n",
    "\n",
    "        print(i[0])\n",
    "        pyplot.clf()\n",
    "\n",
    "\n",
    "        data_aug = list( i[1][\"Data Aug\"] )\n",
    "        acc = list( i[1][\"Accuracy\"] )\n",
    "        f1 = list( i[1][\"F1-score\"] )\n",
    "        recall = list( i[1][\"Recall\"] )\n",
    "        prec = list( i[1][\"Precision\"] )\n",
    "\n",
    "        acc_map = { i:j for i, j in zip(data_aug, acc) }\n",
    "        prec_map = { i:j for i, j in zip(data_aug, prec) }\n",
    "        recall_map = { i:j for i, j in zip(data_aug, recall) }\n",
    "        f1_map = { i:j for i, j in zip(data_aug, f1) }\n",
    "\n",
    "        x = [\"unaugmented\", \"augmented\", \"improved\"]\n",
    "        y = [ acc_map[\"unaugmented\"], acc_map[\"augmented\"], acc_map[\"improved\"] ]\n",
    "        pyplot.plot( x, y, color=\"blue\" )\n",
    "\n",
    "#         x = [\"unaugmented\", \"augmented\", \"improved\"]\n",
    "#         y = [ prec_map[\"unaugmented\"], prec_map[\"augmented\"], prec_map[\"improved\"] ]\n",
    "#         pyplot.plot( x, y, color=\"red\" )\n",
    "\n",
    "#         x = [\"unaugmented\", \"augmented\", \"improved\"]\n",
    "#         y = [ recall_map[\"unaugmented\"], recall_map[\"augmented\"], recall_map[\"improved\"] ]\n",
    "#         pyplot.plot( x, y, color=\"orange\" )\n",
    "\n",
    "        x = [\"unaugmented\", \"augmented\", \"improved\"]\n",
    "        y = [ f1_map[\"unaugmented\"], f1_map[\"augmented\"], f1_map[\"improved\"] ]\n",
    "        pyplot.plot( x, y, color=\"green\" )\n",
    "        pyplot.show()\n",
    "        pyplot.clf()"
   ]
  },
  {
   "cell_type": "code",
   "execution_count": 35,
   "id": "0b1fca1b",
   "metadata": {},
   "outputs": [
    {
     "name": "stdout",
     "output_type": "stream",
     "text": [
      "/home/ubuntu/rumour_detection/gnn_rd/model30\n"
     ]
    },
    {
     "data": {
      "text/html": [
       "<div>\n",
       "<style scoped>\n",
       "    .dataframe tbody tr th:only-of-type {\n",
       "        vertical-align: middle;\n",
       "    }\n",
       "\n",
       "    .dataframe tbody tr th {\n",
       "        vertical-align: top;\n",
       "    }\n",
       "\n",
       "    .dataframe thead th {\n",
       "        text-align: right;\n",
       "    }\n",
       "</style>\n",
       "<table border=\"1\" class=\"dataframe\">\n",
       "  <thead>\n",
       "    <tr style=\"text-align: right;\">\n",
       "      <th></th>\n",
       "      <th>Model</th>\n",
       "      <th>Data Aug</th>\n",
       "      <th>Label</th>\n",
       "      <th>Dataset</th>\n",
       "      <th>Accuracy</th>\n",
       "      <th>Precision</th>\n",
       "      <th>Recall</th>\n",
       "      <th>F1-score</th>\n",
       "    </tr>\n",
       "  </thead>\n",
       "  <tbody>\n",
       "    <tr>\n",
       "      <th>0</th>\n",
       "      <td>GCN</td>\n",
       "      <td>unaugmented</td>\n",
       "      <td>2label</td>\n",
       "      <td>pheme5</td>\n",
       "      <td>0.424661</td>\n",
       "      <td>0.407554</td>\n",
       "      <td>0.411731</td>\n",
       "      <td>0.408570</td>\n",
       "    </tr>\n",
       "    <tr>\n",
       "      <th>1</th>\n",
       "      <td>GAT</td>\n",
       "      <td>unaugmented</td>\n",
       "      <td>2label</td>\n",
       "      <td>pheme5</td>\n",
       "      <td>0.412915</td>\n",
       "      <td>0.396403</td>\n",
       "      <td>0.404478</td>\n",
       "      <td>0.398060</td>\n",
       "    </tr>\n",
       "    <tr>\n",
       "      <th>2</th>\n",
       "      <td>GCN</td>\n",
       "      <td>improved</td>\n",
       "      <td>2label</td>\n",
       "      <td>pheme5</td>\n",
       "      <td>0.421648</td>\n",
       "      <td>0.404412</td>\n",
       "      <td>0.409060</td>\n",
       "      <td>0.406217</td>\n",
       "    </tr>\n",
       "    <tr>\n",
       "      <th>3</th>\n",
       "      <td>GAT</td>\n",
       "      <td>improved</td>\n",
       "      <td>2label</td>\n",
       "      <td>pheme5</td>\n",
       "      <td>0.413309</td>\n",
       "      <td>0.395719</td>\n",
       "      <td>0.396635</td>\n",
       "      <td>0.394949</td>\n",
       "    </tr>\n",
       "    <tr>\n",
       "      <th>4</th>\n",
       "      <td>GCN</td>\n",
       "      <td>augmented</td>\n",
       "      <td>2label</td>\n",
       "      <td>pheme5</td>\n",
       "      <td>0.417728</td>\n",
       "      <td>0.404584</td>\n",
       "      <td>0.414121</td>\n",
       "      <td>0.405457</td>\n",
       "    </tr>\n",
       "    <tr>\n",
       "      <th>5</th>\n",
       "      <td>GAT</td>\n",
       "      <td>augmented</td>\n",
       "      <td>2label</td>\n",
       "      <td>pheme5</td>\n",
       "      <td>0.410965</td>\n",
       "      <td>0.395001</td>\n",
       "      <td>0.397005</td>\n",
       "      <td>0.393631</td>\n",
       "    </tr>\n",
       "    <tr>\n",
       "      <th>6</th>\n",
       "      <td>GCN</td>\n",
       "      <td>unaugmented</td>\n",
       "      <td>3label</td>\n",
       "      <td>pheme9</td>\n",
       "      <td>0.548577</td>\n",
       "      <td>0.390000</td>\n",
       "      <td>0.368153</td>\n",
       "      <td>0.334912</td>\n",
       "    </tr>\n",
       "    <tr>\n",
       "      <th>7</th>\n",
       "      <td>GAT</td>\n",
       "      <td>unaugmented</td>\n",
       "      <td>3label</td>\n",
       "      <td>pheme9</td>\n",
       "      <td>0.791269</td>\n",
       "      <td>0.390890</td>\n",
       "      <td>0.462963</td>\n",
       "      <td>0.417079</td>\n",
       "    </tr>\n",
       "    <tr>\n",
       "      <th>8</th>\n",
       "      <td>GCN</td>\n",
       "      <td>improved</td>\n",
       "      <td>3label</td>\n",
       "      <td>pheme9</td>\n",
       "      <td>0.700265</td>\n",
       "      <td>0.392165</td>\n",
       "      <td>0.476119</td>\n",
       "      <td>0.416307</td>\n",
       "    </tr>\n",
       "    <tr>\n",
       "      <th>9</th>\n",
       "      <td>GAT</td>\n",
       "      <td>improved</td>\n",
       "      <td>3label</td>\n",
       "      <td>pheme9</td>\n",
       "      <td>0.791269</td>\n",
       "      <td>0.390890</td>\n",
       "      <td>0.462963</td>\n",
       "      <td>0.417079</td>\n",
       "    </tr>\n",
       "    <tr>\n",
       "      <th>10</th>\n",
       "      <td>GCN</td>\n",
       "      <td>augmented</td>\n",
       "      <td>3label</td>\n",
       "      <td>pheme9</td>\n",
       "      <td>0.571950</td>\n",
       "      <td>0.339277</td>\n",
       "      <td>0.420636</td>\n",
       "      <td>0.342480</td>\n",
       "    </tr>\n",
       "    <tr>\n",
       "      <th>11</th>\n",
       "      <td>GAT</td>\n",
       "      <td>augmented</td>\n",
       "      <td>3label</td>\n",
       "      <td>pheme9</td>\n",
       "      <td>0.780626</td>\n",
       "      <td>0.396811</td>\n",
       "      <td>0.462787</td>\n",
       "      <td>0.420608</td>\n",
       "    </tr>\n",
       "    <tr>\n",
       "      <th>12</th>\n",
       "      <td>GCN</td>\n",
       "      <td>unaugmented</td>\n",
       "      <td>2label</td>\n",
       "      <td>pheme9</td>\n",
       "      <td>0.752012</td>\n",
       "      <td>0.708101</td>\n",
       "      <td>0.727851</td>\n",
       "      <td>0.704122</td>\n",
       "    </tr>\n",
       "    <tr>\n",
       "      <th>13</th>\n",
       "      <td>GAT</td>\n",
       "      <td>unaugmented</td>\n",
       "      <td>2label</td>\n",
       "      <td>pheme9</td>\n",
       "      <td>0.777043</td>\n",
       "      <td>0.703658</td>\n",
       "      <td>0.701328</td>\n",
       "      <td>0.701308</td>\n",
       "    </tr>\n",
       "    <tr>\n",
       "      <th>14</th>\n",
       "      <td>GCN</td>\n",
       "      <td>improved</td>\n",
       "      <td>2label</td>\n",
       "      <td>pheme9</td>\n",
       "      <td>0.774908</td>\n",
       "      <td>0.714849</td>\n",
       "      <td>0.727093</td>\n",
       "      <td>0.715834</td>\n",
       "    </tr>\n",
       "    <tr>\n",
       "      <th>15</th>\n",
       "      <td>GAT</td>\n",
       "      <td>improved</td>\n",
       "      <td>2label</td>\n",
       "      <td>pheme9</td>\n",
       "      <td>0.768038</td>\n",
       "      <td>0.713403</td>\n",
       "      <td>0.715372</td>\n",
       "      <td>0.711757</td>\n",
       "    </tr>\n",
       "    <tr>\n",
       "      <th>16</th>\n",
       "      <td>GCN</td>\n",
       "      <td>augmented</td>\n",
       "      <td>2label</td>\n",
       "      <td>pheme9</td>\n",
       "      <td>0.753730</td>\n",
       "      <td>0.660335</td>\n",
       "      <td>0.677220</td>\n",
       "      <td>0.656906</td>\n",
       "    </tr>\n",
       "    <tr>\n",
       "      <th>17</th>\n",
       "      <td>GAT</td>\n",
       "      <td>augmented</td>\n",
       "      <td>2label</td>\n",
       "      <td>pheme9</td>\n",
       "      <td>0.775512</td>\n",
       "      <td>0.715768</td>\n",
       "      <td>0.721852</td>\n",
       "      <td>0.713690</td>\n",
       "    </tr>\n",
       "  </tbody>\n",
       "</table>\n",
       "</div>"
      ],
      "text/plain": [
       "   Model     Data Aug   Label Dataset  Accuracy  Precision    Recall  F1-score\n",
       "0    GCN  unaugmented  2label  pheme5  0.424661   0.407554  0.411731  0.408570\n",
       "1    GAT  unaugmented  2label  pheme5  0.412915   0.396403  0.404478  0.398060\n",
       "2    GCN     improved  2label  pheme5  0.421648   0.404412  0.409060  0.406217\n",
       "3    GAT     improved  2label  pheme5  0.413309   0.395719  0.396635  0.394949\n",
       "4    GCN    augmented  2label  pheme5  0.417728   0.404584  0.414121  0.405457\n",
       "5    GAT    augmented  2label  pheme5  0.410965   0.395001  0.397005  0.393631\n",
       "6    GCN  unaugmented  3label  pheme9  0.548577   0.390000  0.368153  0.334912\n",
       "7    GAT  unaugmented  3label  pheme9  0.791269   0.390890  0.462963  0.417079\n",
       "8    GCN     improved  3label  pheme9  0.700265   0.392165  0.476119  0.416307\n",
       "9    GAT     improved  3label  pheme9  0.791269   0.390890  0.462963  0.417079\n",
       "10   GCN    augmented  3label  pheme9  0.571950   0.339277  0.420636  0.342480\n",
       "11   GAT    augmented  3label  pheme9  0.780626   0.396811  0.462787  0.420608\n",
       "12   GCN  unaugmented  2label  pheme9  0.752012   0.708101  0.727851  0.704122\n",
       "13   GAT  unaugmented  2label  pheme9  0.777043   0.703658  0.701328  0.701308\n",
       "14   GCN     improved  2label  pheme9  0.774908   0.714849  0.727093  0.715834\n",
       "15   GAT     improved  2label  pheme9  0.768038   0.713403  0.715372  0.711757\n",
       "16   GCN    augmented  2label  pheme9  0.753730   0.660335  0.677220  0.656906\n",
       "17   GAT    augmented  2label  pheme9  0.775512   0.715768  0.721852  0.713690"
      ]
     },
     "execution_count": 35,
     "metadata": {},
     "output_type": "execute_result"
    }
   ],
   "source": [
    "saveDataPath = root_path / \"model30\"\n",
    "print( saveDataPath )\n",
    "df = getResultInDF( saveDataPath )\n",
    "df"
   ]
  },
  {
   "cell_type": "code",
   "execution_count": 36,
   "id": "9f4ba3c5",
   "metadata": {},
   "outputs": [
    {
     "name": "stdout",
     "output_type": "stream",
     "text": [
      "('GAT', '2label', 'pheme5')\n"
     ]
    },
    {
     "data": {
      "image/png": "[encoded data removed]",
      "text/plain": [
       "<Figure size 432x288 with 1 Axes>"
      ]
     },
     "metadata": {
      "needs_background": "light"
     },
     "output_type": "display_data"
    },
    {
     "name": "stdout",
     "output_type": "stream",
     "text": [
      "('GAT', '2label', 'pheme9')\n"
     ]
    },
    {
     "data": {
      "image/png": "[encoded data removed]",
      "text/plain": [
       "<Figure size 432x288 with 1 Axes>"
      ]
     },
     "metadata": {
      "needs_background": "light"
     },
     "output_type": "display_data"
    },
    {
     "name": "stdout",
     "output_type": "stream",
     "text": [
      "('GAT', '3label', 'pheme9')\n"
     ]
    },
    {
     "data": {
      "image/png": "[encoded data removed]",
      "text/plain": [
       "<Figure size 432x288 with 1 Axes>"
      ]
     },
     "metadata": {
      "needs_background": "light"
     },
     "output_type": "display_data"
    },
    {
     "name": "stdout",
     "output_type": "stream",
     "text": [
      "('GCN', '2label', 'pheme5')\n"
     ]
    },
    {
     "data": {
      "image/png": "[encoded data removed]",
      "text/plain": [
       "<Figure size 432x288 with 1 Axes>"
      ]
     },
     "metadata": {
      "needs_background": "light"
     },
     "output_type": "display_data"
    },
    {
     "name": "stdout",
     "output_type": "stream",
     "text": [
      "('GCN', '2label', 'pheme9')\n"
     ]
    },
    {
     "data": {
      "image/png": "[encoded data removed]",
      "text/plain": [
       "<Figure size 432x288 with 1 Axes>"
      ]
     },
     "metadata": {
      "needs_background": "light"
     },
     "output_type": "display_data"
    },
    {
     "name": "stdout",
     "output_type": "stream",
     "text": [
      "('GCN', '3label', 'pheme9')\n"
     ]
    },
    {
     "data": {
      "image/png": "[encoded data removed]",
      "text/plain": [
       "<Figure size 432x288 with 1 Axes>"
      ]
     },
     "metadata": {
      "needs_background": "light"
     },
     "output_type": "display_data"
    },
    {
     "data": {
      "text/plain": [
       "<Figure size 432x288 with 0 Axes>"
      ]
     },
     "metadata": {},
     "output_type": "display_data"
    }
   ],
   "source": [
    "getGraphs( df )"
   ]
  },
  {
   "cell_type": "code",
   "execution_count": 37,
   "id": "3a8c9c9e",
   "metadata": {},
   "outputs": [
    {
     "name": "stdout",
     "output_type": "stream",
     "text": [
      "('GAT', '2label', 'pheme5')\n",
      "  Model     Data Aug   Label Dataset  Accuracy  Precision    Recall  F1-score\n",
      "1   GAT  unaugmented  2label  pheme5  0.412915   0.396403  0.404478  0.398060\n",
      "3   GAT     improved  2label  pheme5  0.413309   0.395719  0.396635  0.394949\n",
      "5   GAT    augmented  2label  pheme5  0.410965   0.395001  0.397005  0.393631\n",
      "\n",
      "('GAT', '2label', 'pheme9')\n",
      "   Model     Data Aug   Label Dataset  Accuracy  Precision    Recall  F1-score\n",
      "13   GAT  unaugmented  2label  pheme9  0.777043   0.703658  0.701328  0.701308\n",
      "15   GAT     improved  2label  pheme9  0.768038   0.713403  0.715372  0.711757\n",
      "17   GAT    augmented  2label  pheme9  0.775512   0.715768  0.721852  0.713690\n",
      "\n",
      "('GAT', '3label', 'pheme9')\n",
      "   Model     Data Aug   Label Dataset  Accuracy  Precision    Recall  F1-score\n",
      "7    GAT  unaugmented  3label  pheme9  0.791269   0.390890  0.462963  0.417079\n",
      "9    GAT     improved  3label  pheme9  0.791269   0.390890  0.462963  0.417079\n",
      "11   GAT    augmented  3label  pheme9  0.780626   0.396811  0.462787  0.420608\n",
      "\n",
      "('GCN', '2label', 'pheme5')\n",
      "  Model     Data Aug   Label Dataset  Accuracy  Precision    Recall  F1-score\n",
      "0   GCN  unaugmented  2label  pheme5  0.424661   0.407554  0.411731  0.408570\n",
      "2   GCN     improved  2label  pheme5  0.421648   0.404412  0.409060  0.406217\n",
      "4   GCN    augmented  2label  pheme5  0.417728   0.404584  0.414121  0.405457\n",
      "\n",
      "('GCN', '2label', 'pheme9')\n",
      "   Model     Data Aug   Label Dataset  Accuracy  Precision    Recall  F1-score\n",
      "12   GCN  unaugmented  2label  pheme9  0.752012   0.708101  0.727851  0.704122\n",
      "14   GCN     improved  2label  pheme9  0.774908   0.714849  0.727093  0.715834\n",
      "16   GCN    augmented  2label  pheme9  0.753730   0.660335  0.677220  0.656906\n",
      "\n",
      "('GCN', '3label', 'pheme9')\n",
      "   Model     Data Aug   Label Dataset  Accuracy  Precision    Recall  F1-score\n",
      "6    GCN  unaugmented  3label  pheme9  0.548577   0.390000  0.368153  0.334912\n",
      "8    GCN     improved  3label  pheme9  0.700265   0.392165  0.476119  0.416307\n",
      "10   GCN    augmented  3label  pheme9  0.571950   0.339277  0.420636  0.342480\n",
      "\n"
     ]
    }
   ],
   "source": [
    "for i in df.groupby(['Model', 'Label', 'Dataset']):\n",
    "    print(i[0])\n",
    "    print(i[1])\n",
    "    print()"
   ]
  },
  {
   "cell_type": "code",
   "execution_count": 38,
   "id": "f3fa2983",
   "metadata": {},
   "outputs": [
    {
     "name": "stdout",
     "output_type": "stream",
     "text": [
      "/home/ubuntu/rumour_detection/gnn_rd/model70\n"
     ]
    },
    {
     "data": {
      "text/html": [
       "<div>\n",
       "<style scoped>\n",
       "    .dataframe tbody tr th:only-of-type {\n",
       "        vertical-align: middle;\n",
       "    }\n",
       "\n",
       "    .dataframe tbody tr th {\n",
       "        vertical-align: top;\n",
       "    }\n",
       "\n",
       "    .dataframe thead th {\n",
       "        text-align: right;\n",
       "    }\n",
       "</style>\n",
       "<table border=\"1\" class=\"dataframe\">\n",
       "  <thead>\n",
       "    <tr style=\"text-align: right;\">\n",
       "      <th></th>\n",
       "      <th>Model</th>\n",
       "      <th>Data Aug</th>\n",
       "      <th>Label</th>\n",
       "      <th>Dataset</th>\n",
       "      <th>Accuracy</th>\n",
       "      <th>Precision</th>\n",
       "      <th>Recall</th>\n",
       "      <th>F1-score</th>\n",
       "    </tr>\n",
       "  </thead>\n",
       "  <tbody>\n",
       "    <tr>\n",
       "      <th>0</th>\n",
       "      <td>GCN</td>\n",
       "      <td>unaugmented</td>\n",
       "      <td>2label</td>\n",
       "      <td>pheme5</td>\n",
       "      <td>0.420568</td>\n",
       "      <td>0.404810</td>\n",
       "      <td>0.413584</td>\n",
       "      <td>0.407486</td>\n",
       "    </tr>\n",
       "    <tr>\n",
       "      <th>1</th>\n",
       "      <td>GAT</td>\n",
       "      <td>unaugmented</td>\n",
       "      <td>2label</td>\n",
       "      <td>pheme5</td>\n",
       "      <td>0.414904</td>\n",
       "      <td>0.398097</td>\n",
       "      <td>0.406397</td>\n",
       "      <td>0.400496</td>\n",
       "    </tr>\n",
       "    <tr>\n",
       "      <th>2</th>\n",
       "      <td>GCN</td>\n",
       "      <td>improved</td>\n",
       "      <td>2label</td>\n",
       "      <td>pheme5</td>\n",
       "      <td>0.421475</td>\n",
       "      <td>0.405919</td>\n",
       "      <td>0.412553</td>\n",
       "      <td>0.407528</td>\n",
       "    </tr>\n",
       "    <tr>\n",
       "      <th>3</th>\n",
       "      <td>GAT</td>\n",
       "      <td>improved</td>\n",
       "      <td>2label</td>\n",
       "      <td>pheme5</td>\n",
       "      <td>0.412018</td>\n",
       "      <td>0.394279</td>\n",
       "      <td>0.396402</td>\n",
       "      <td>0.393880</td>\n",
       "    </tr>\n",
       "    <tr>\n",
       "      <th>4</th>\n",
       "      <td>GCN</td>\n",
       "      <td>augmented</td>\n",
       "      <td>2label</td>\n",
       "      <td>pheme5</td>\n",
       "      <td>0.423571</td>\n",
       "      <td>0.408686</td>\n",
       "      <td>0.412664</td>\n",
       "      <td>0.408578</td>\n",
       "    </tr>\n",
       "    <tr>\n",
       "      <th>5</th>\n",
       "      <td>GAT</td>\n",
       "      <td>augmented</td>\n",
       "      <td>2label</td>\n",
       "      <td>pheme5</td>\n",
       "      <td>0.405543</td>\n",
       "      <td>0.387318</td>\n",
       "      <td>0.390807</td>\n",
       "      <td>0.388609</td>\n",
       "    </tr>\n",
       "    <tr>\n",
       "      <th>6</th>\n",
       "      <td>GCN</td>\n",
       "      <td>unaugmented</td>\n",
       "      <td>3label</td>\n",
       "      <td>pheme9</td>\n",
       "      <td>0.474104</td>\n",
       "      <td>0.321026</td>\n",
       "      <td>0.373643</td>\n",
       "      <td>0.277245</td>\n",
       "    </tr>\n",
       "    <tr>\n",
       "      <th>7</th>\n",
       "      <td>GAT</td>\n",
       "      <td>unaugmented</td>\n",
       "      <td>3label</td>\n",
       "      <td>pheme9</td>\n",
       "      <td>0.791269</td>\n",
       "      <td>0.390890</td>\n",
       "      <td>0.462963</td>\n",
       "      <td>0.417079</td>\n",
       "    </tr>\n",
       "    <tr>\n",
       "      <th>8</th>\n",
       "      <td>GCN</td>\n",
       "      <td>improved</td>\n",
       "      <td>3label</td>\n",
       "      <td>pheme9</td>\n",
       "      <td>0.669136</td>\n",
       "      <td>0.385492</td>\n",
       "      <td>0.470288</td>\n",
       "      <td>0.400651</td>\n",
       "    </tr>\n",
       "    <tr>\n",
       "      <th>9</th>\n",
       "      <td>GAT</td>\n",
       "      <td>improved</td>\n",
       "      <td>3label</td>\n",
       "      <td>pheme9</td>\n",
       "      <td>0.791269</td>\n",
       "      <td>0.390890</td>\n",
       "      <td>0.462963</td>\n",
       "      <td>0.417079</td>\n",
       "    </tr>\n",
       "    <tr>\n",
       "      <th>10</th>\n",
       "      <td>GCN</td>\n",
       "      <td>augmented</td>\n",
       "      <td>3label</td>\n",
       "      <td>pheme9</td>\n",
       "      <td>0.606234</td>\n",
       "      <td>0.460425</td>\n",
       "      <td>0.500102</td>\n",
       "      <td>0.405693</td>\n",
       "    </tr>\n",
       "    <tr>\n",
       "      <th>11</th>\n",
       "      <td>GAT</td>\n",
       "      <td>augmented</td>\n",
       "      <td>3label</td>\n",
       "      <td>pheme9</td>\n",
       "      <td>0.780065</td>\n",
       "      <td>0.399382</td>\n",
       "      <td>0.477685</td>\n",
       "      <td>0.427016</td>\n",
       "    </tr>\n",
       "    <tr>\n",
       "      <th>12</th>\n",
       "      <td>GCN</td>\n",
       "      <td>unaugmented</td>\n",
       "      <td>2label</td>\n",
       "      <td>pheme9</td>\n",
       "      <td>0.758027</td>\n",
       "      <td>0.715038</td>\n",
       "      <td>0.746716</td>\n",
       "      <td>0.710759</td>\n",
       "    </tr>\n",
       "    <tr>\n",
       "      <th>13</th>\n",
       "      <td>GAT</td>\n",
       "      <td>unaugmented</td>\n",
       "      <td>2label</td>\n",
       "      <td>pheme9</td>\n",
       "      <td>0.747803</td>\n",
       "      <td>0.693901</td>\n",
       "      <td>0.721212</td>\n",
       "      <td>0.690123</td>\n",
       "    </tr>\n",
       "    <tr>\n",
       "      <th>14</th>\n",
       "      <td>GCN</td>\n",
       "      <td>improved</td>\n",
       "      <td>2label</td>\n",
       "      <td>pheme9</td>\n",
       "      <td>0.763996</td>\n",
       "      <td>0.666511</td>\n",
       "      <td>0.670685</td>\n",
       "      <td>0.660657</td>\n",
       "    </tr>\n",
       "    <tr>\n",
       "      <th>15</th>\n",
       "      <td>GAT</td>\n",
       "      <td>improved</td>\n",
       "      <td>2label</td>\n",
       "      <td>pheme9</td>\n",
       "      <td>0.757119</td>\n",
       "      <td>0.686618</td>\n",
       "      <td>0.696460</td>\n",
       "      <td>0.688641</td>\n",
       "    </tr>\n",
       "    <tr>\n",
       "      <th>16</th>\n",
       "      <td>GCN</td>\n",
       "      <td>augmented</td>\n",
       "      <td>2label</td>\n",
       "      <td>pheme9</td>\n",
       "      <td>0.770728</td>\n",
       "      <td>0.668201</td>\n",
       "      <td>0.688951</td>\n",
       "      <td>0.667133</td>\n",
       "    </tr>\n",
       "    <tr>\n",
       "      <th>17</th>\n",
       "      <td>GAT</td>\n",
       "      <td>augmented</td>\n",
       "      <td>2label</td>\n",
       "      <td>pheme9</td>\n",
       "      <td>0.768787</td>\n",
       "      <td>0.696581</td>\n",
       "      <td>0.700567</td>\n",
       "      <td>0.696505</td>\n",
       "    </tr>\n",
       "  </tbody>\n",
       "</table>\n",
       "</div>"
      ],
      "text/plain": [
       "   Model     Data Aug   Label Dataset  Accuracy  Precision    Recall  F1-score\n",
       "0    GCN  unaugmented  2label  pheme5  0.420568   0.404810  0.413584  0.407486\n",
       "1    GAT  unaugmented  2label  pheme5  0.414904   0.398097  0.406397  0.400496\n",
       "2    GCN     improved  2label  pheme5  0.421475   0.405919  0.412553  0.407528\n",
       "3    GAT     improved  2label  pheme5  0.412018   0.394279  0.396402  0.393880\n",
       "4    GCN    augmented  2label  pheme5  0.423571   0.408686  0.412664  0.408578\n",
       "5    GAT    augmented  2label  pheme5  0.405543   0.387318  0.390807  0.388609\n",
       "6    GCN  unaugmented  3label  pheme9  0.474104   0.321026  0.373643  0.277245\n",
       "7    GAT  unaugmented  3label  pheme9  0.791269   0.390890  0.462963  0.417079\n",
       "8    GCN     improved  3label  pheme9  0.669136   0.385492  0.470288  0.400651\n",
       "9    GAT     improved  3label  pheme9  0.791269   0.390890  0.462963  0.417079\n",
       "10   GCN    augmented  3label  pheme9  0.606234   0.460425  0.500102  0.405693\n",
       "11   GAT    augmented  3label  pheme9  0.780065   0.399382  0.477685  0.427016\n",
       "12   GCN  unaugmented  2label  pheme9  0.758027   0.715038  0.746716  0.710759\n",
       "13   GAT  unaugmented  2label  pheme9  0.747803   0.693901  0.721212  0.690123\n",
       "14   GCN     improved  2label  pheme9  0.763996   0.666511  0.670685  0.660657\n",
       "15   GAT     improved  2label  pheme9  0.757119   0.686618  0.696460  0.688641\n",
       "16   GCN    augmented  2label  pheme9  0.770728   0.668201  0.688951  0.667133\n",
       "17   GAT    augmented  2label  pheme9  0.768787   0.696581  0.700567  0.696505"
      ]
     },
     "execution_count": 38,
     "metadata": {},
     "output_type": "execute_result"
    }
   ],
   "source": [
    "saveDataPath = root_path / \"model70\"\n",
    "print( saveDataPath )\n",
    "df = getResultInDF( saveDataPath )\n",
    "df"
   ]
  },
  {
   "cell_type": "code",
   "execution_count": 39,
   "id": "09851c4c",
   "metadata": {},
   "outputs": [
    {
     "name": "stdout",
     "output_type": "stream",
     "text": [
      "('GAT', '2label', 'pheme5')\n"
     ]
    },
    {
     "data": {
      "image/png": "[encoded data removed]",
      "text/plain": [
       "<Figure size 432x288 with 1 Axes>"
      ]
     },
     "metadata": {
      "needs_background": "light"
     },
     "output_type": "display_data"
    },
    {
     "name": "stdout",
     "output_type": "stream",
     "text": [
      "('GAT', '2label', 'pheme9')\n"
     ]
    },
    {
     "data": {
      "image/png": "[encoded data removed]",
      "text/plain": [
       "<Figure size 432x288 with 1 Axes>"
      ]
     },
     "metadata": {
      "needs_background": "light"
     },
     "output_type": "display_data"
    },
    {
     "name": "stdout",
     "output_type": "stream",
     "text": [
      "('GAT', '3label', 'pheme9')\n"
     ]
    },
    {
     "data": {
      "image/png": "[encoded data removed]",
      "text/plain": [
       "<Figure size 432x288 with 1 Axes>"
      ]
     },
     "metadata": {
      "needs_background": "light"
     },
     "output_type": "display_data"
    },
    {
     "name": "stdout",
     "output_type": "stream",
     "text": [
      "('GCN', '2label', 'pheme5')\n"
     ]
    },
    {
     "data": {
      "image/png": "[encoded data removed]",
      "text/plain": [
       "<Figure size 432x288 with 1 Axes>"
      ]
     },
     "metadata": {
      "needs_background": "light"
     },
     "output_type": "display_data"
    },
    {
     "name": "stdout",
     "output_type": "stream",
     "text": [
      "('GCN', '2label', 'pheme9')\n"
     ]
    },
    {
     "data": {
      "image/png": "[encoded data removed]",
      "text/plain": [
       "<Figure size 432x288 with 1 Axes>"
      ]
     },
     "metadata": {
      "needs_background": "light"
     },
     "output_type": "display_data"
    },
    {
     "name": "stdout",
     "output_type": "stream",
     "text": [
      "('GCN', '3label', 'pheme9')\n"
     ]
    },
    {
     "data": {
      "image/png": "[encoded data removed]",
      "text/plain": [
       "<Figure size 432x288 with 1 Axes>"
      ]
     },
     "metadata": {
      "needs_background": "light"
     },
     "output_type": "display_data"
    },
    {
     "data": {
      "text/plain": [
       "<Figure size 432x288 with 0 Axes>"
      ]
     },
     "metadata": {},
     "output_type": "display_data"
    }
   ],
   "source": [
    "getGraphs( df )"
   ]
  },
  {
   "cell_type": "code",
   "execution_count": 40,
   "id": "04892730",
   "metadata": {},
   "outputs": [
    {
     "name": "stdout",
     "output_type": "stream",
     "text": [
      "('GAT', '2label', 'pheme5')\n",
      "  Model     Data Aug   Label Dataset  Accuracy  Precision    Recall  F1-score\n",
      "1   GAT  unaugmented  2label  pheme5  0.414904   0.398097  0.406397  0.400496\n",
      "3   GAT     improved  2label  pheme5  0.412018   0.394279  0.396402  0.393880\n",
      "5   GAT    augmented  2label  pheme5  0.405543   0.387318  0.390807  0.388609\n",
      "\n",
      "('GAT', '2label', 'pheme9')\n",
      "   Model     Data Aug   Label Dataset  Accuracy  Precision    Recall  F1-score\n",
      "13   GAT  unaugmented  2label  pheme9  0.747803   0.693901  0.721212  0.690123\n",
      "15   GAT     improved  2label  pheme9  0.757119   0.686618  0.696460  0.688641\n",
      "17   GAT    augmented  2label  pheme9  0.768787   0.696581  0.700567  0.696505\n",
      "\n",
      "('GAT', '3label', 'pheme9')\n",
      "   Model     Data Aug   Label Dataset  Accuracy  Precision    Recall  F1-score\n",
      "7    GAT  unaugmented  3label  pheme9  0.791269   0.390890  0.462963  0.417079\n",
      "9    GAT     improved  3label  pheme9  0.791269   0.390890  0.462963  0.417079\n",
      "11   GAT    augmented  3label  pheme9  0.780065   0.399382  0.477685  0.427016\n",
      "\n",
      "('GCN', '2label', 'pheme5')\n",
      "  Model     Data Aug   Label Dataset  Accuracy  Precision    Recall  F1-score\n",
      "0   GCN  unaugmented  2label  pheme5  0.420568   0.404810  0.413584  0.407486\n",
      "2   GCN     improved  2label  pheme5  0.421475   0.405919  0.412553  0.407528\n",
      "4   GCN    augmented  2label  pheme5  0.423571   0.408686  0.412664  0.408578\n",
      "\n",
      "('GCN', '2label', 'pheme9')\n",
      "   Model     Data Aug   Label Dataset  Accuracy  Precision    Recall  F1-score\n",
      "12   GCN  unaugmented  2label  pheme9  0.758027   0.715038  0.746716  0.710759\n",
      "14   GCN     improved  2label  pheme9  0.763996   0.666511  0.670685  0.660657\n",
      "16   GCN    augmented  2label  pheme9  0.770728   0.668201  0.688951  0.667133\n",
      "\n",
      "('GCN', '3label', 'pheme9')\n",
      "   Model     Data Aug   Label Dataset  Accuracy  Precision    Recall  F1-score\n",
      "6    GCN  unaugmented  3label  pheme9  0.474104   0.321026  0.373643  0.277245\n",
      "8    GCN     improved  3label  pheme9  0.669136   0.385492  0.470288  0.400651\n",
      "10   GCN    augmented  3label  pheme9  0.606234   0.460425  0.500102  0.405693\n",
      "\n"
     ]
    }
   ],
   "source": [
    "for i in df.groupby(['Model', 'Label', 'Dataset']):\n",
    "    print(i[0])\n",
    "    print(i[1])\n",
    "    print()"
   ]
  },
  {
   "cell_type": "code",
   "execution_count": null,
   "id": "bd5386ae",
   "metadata": {},
   "outputs": [],
   "source": []
  }
 ],
 "metadata": {
  "kernelspec": {
   "display_name": "Python 3",
   "language": "python",
   "name": "python3"
  },
  "language_info": {
   "codemirror_mode": {
    "name": "ipython",
    "version": 3
   },
   "file_extension": ".py",
   "mimetype": "text/x-python",
   "name": "python",
   "nbconvert_exporter": "python",
   "pygments_lexer": "ipython3",
   "version": "3.6.9"
  }
 },
 "nbformat": 4,
 "nbformat_minor": 5
}
